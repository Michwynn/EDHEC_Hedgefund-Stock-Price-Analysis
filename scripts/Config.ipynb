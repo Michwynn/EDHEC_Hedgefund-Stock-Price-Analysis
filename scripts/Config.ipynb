{
 "cells": [
  {
   "cell_type": "markdown",
   "metadata": {},
   "source": [
    "### Importing all relevant libraries"
   ]
  },
  {
   "cell_type": "code",
   "execution_count": 1,
   "metadata": {},
   "outputs": [],
   "source": [
    "%%capture\n",
    "\n",
    "#workplace directory\n",
    "import os\n",
    "\n",
    "# arrays/matrices\n",
    "import pandas as pd\n",
    "import numpy as np\n",
    "from numpy import dot\n",
    "from numpy.linalg import norm\n",
    "import datetime\n",
    "\n",
    "# stats module\n",
    "from scipy import stats\n",
    "import statsmodels.api as sm\n",
    "from scipy.stats import kurtosis, skew, norm\n",
    "from statsmodels.tsa.stattools import adfuller\n",
    "from statsmodels.tsa.arima.model import ARIMA\n",
    "\n",
    "# Using lowessSmoother\n",
    "!pip install tsmoothie\n",
    "from tsmoothie.smoother import LowessSmoother\n",
    "\n",
    "# visual libraries\n",
    "!pip install altair\n",
    "import altair as alt\n",
    "import matplotlib.pyplot as plt\n",
    "from statsmodels.graphics.tsaplots import plot_acf\n",
    "from statsmodels.graphics.tsaplots import plot_pacf\n",
    "\n",
    "# suppress warnings\n",
    "import warnings\n",
    "warnings.filterwarnings(\"ignore\")\n",
    "\n",
    "# Machine learning (T-SNE/Regression techniques)\n",
    "from sklearn.preprocessing import normalize\n",
    "from sklearn.manifold import TSNE"
   ]
  },
  {
   "cell_type": "markdown",
   "metadata": {},
   "source": [
    "### Assumptions\n",
    "\n",
    "- Risk free rate of return = 0%\n",
    "- For T-SNE: Learning rate = 10\n",
    "- Level of significance for hypothesis testing = 5%\n",
    "- Setting max lag for autocorrelation function to be 7 days (a week)"
   ]
  },
  {
   "cell_type": "code",
   "execution_count": 2,
   "metadata": {},
   "outputs": [],
   "source": [
    "risk_free_rate = 0\n",
    "learning_tsne_rate = 10\n",
    "LOS = 0.05\n",
    "max_lag = 7"
   ]
  }
 ],
 "metadata": {
  "kernelspec": {
   "display_name": "Python 3 (ipykernel)",
   "language": "python",
   "name": "python3"
  },
  "language_info": {
   "codemirror_mode": {
    "name": "ipython",
    "version": 3
   },
   "file_extension": ".py",
   "mimetype": "text/x-python",
   "name": "python",
   "nbconvert_exporter": "python",
   "pygments_lexer": "ipython3",
   "version": "3.9.12"
  }
 },
 "nbformat": 4,
 "nbformat_minor": 4
}
