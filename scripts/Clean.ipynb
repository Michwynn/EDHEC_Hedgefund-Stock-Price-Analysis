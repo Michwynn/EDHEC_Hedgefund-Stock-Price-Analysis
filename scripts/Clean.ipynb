{
 "cells": [
  {
   "cell_type": "code",
   "execution_count": 1,
   "metadata": {},
   "outputs": [],
   "source": [
    "%%capture\n",
    "%run ./Config.ipynb # run this cell only once"
   ]
  },
  {
   "cell_type": "markdown",
   "metadata": {},
   "source": [
    "# Overall approach:\n",
    "- Convert date columns to pd.datetime format\n",
    "- Convert all str values to float format\n",
    "- rename df columns names appropriately \n",
    "- convert from wide to long format for easier analysis"
   ]
  },
  {
   "cell_type": "markdown",
   "metadata": {},
   "source": [
    "### Function to clean hedge funds df"
   ]
  },
  {
   "cell_type": "code",
   "execution_count": 2,
   "metadata": {},
   "outputs": [],
   "source": [
    "def clean_funds(df):\n",
    "    \n",
    "    df = df.rename(columns = lambda x: x.strip()) # strip white spaces for col names\n",
    "    df['date'] = pd.to_datetime(df['date']) # convert to datetime format\n",
    "    \n",
    "    # create a loop to convert str to float for remaining col\n",
    "    for i in range(1, len(df.columns)): # skip first date col\n",
    "        df[df.columns[i]] = df[df.columns[i]].str.rstrip('%').astype('float') # remove % and convert dtype to float\n",
    "    \n",
    "    # melt df from wide to long format\n",
    "    df = pd.melt(df, \n",
    "                 id_vars = 'date', \n",
    "                 value_vars = df.columns[1:], \n",
    "                 var_name = 'fund', \n",
    "                 value_name = 'return')\n",
    "    \n",
    "    df = df.dropna() # drop all na values\n",
    "         \n",
    "    return df"
   ]
  },
  {
   "cell_type": "markdown",
   "metadata": {},
   "source": [
    "### Function to clean price df"
   ]
  },
  {
   "cell_type": "code",
   "execution_count": 3,
   "metadata": {},
   "outputs": [],
   "source": [
    "def clean_price(df):\n",
    "    \n",
    "    df['Date'] = pd.to_datetime(df['Date']) # convert to datetime format\n",
    "        \n",
    "    df = df.rename(columns = lambda x: x.strip()) # strip white spaces for col names\n",
    "    \n",
    "    # melt df from wide to long format\n",
    "    df = pd.melt(df, \n",
    "                 id_vars = [\"Date\", \"Feature\"], \n",
    "                 value_vars = df.columns[2:], \n",
    "                 var_name = 'ticker', \n",
    "                 value_name = 'price')\n",
    "    \n",
    "    df = df.dropna() # drop all na values\n",
    "    \n",
    "    return df"
   ]
  }
 ],
 "metadata": {
  "kernelspec": {
   "display_name": "Python 3 (ipykernel)",
   "language": "python",
   "name": "python3"
  },
  "language_info": {
   "codemirror_mode": {
    "name": "ipython",
    "version": 3
   },
   "file_extension": ".py",
   "mimetype": "text/x-python",
   "name": "python",
   "nbconvert_exporter": "python",
   "pygments_lexer": "ipython3",
   "version": "3.9.12"
  }
 },
 "nbformat": 4,
 "nbformat_minor": 4
}
